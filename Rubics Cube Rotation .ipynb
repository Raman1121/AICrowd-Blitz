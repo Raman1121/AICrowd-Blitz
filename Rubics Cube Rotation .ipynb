{
 "cells": [
  {
   "cell_type": "code",
   "execution_count": 1,
   "metadata": {},
   "outputs": [
    {
     "name": "stderr",
     "output_type": "stream",
     "text": [
      "Using TensorFlow backend.\n"
     ]
    }
   ],
   "source": [
    "import numpy as np\n",
    "import matplotlib.pyplot as plt\n",
    "import os\n",
    "import cv2\n",
    "import pandas as pd\n",
    "from keras.layers import Input, Add, Dense, Activation, ZeroPadding2D, BatchNormalization, Flatten, Conv2D, AveragePooling2D, MaxPooling2D, GlobalMaxPooling2D\n",
    "from keras.initializers import glorot_uniform,glorot_normal\n",
    "from keras.models import Model, load_model\n",
    "import tensorflow as tf"
   ]
  },
  {
   "cell_type": "code",
   "execution_count": 2,
   "metadata": {},
   "outputs": [],
   "source": [
    "DATADIR = \"C:/Users/Arpan/Downloads/Education/Project/Rubics Cube/training/\"\n",
    "labels = pd.read_csv(DATADIR+str('labels.csv'))"
   ]
  },
  {
   "cell_type": "code",
   "execution_count": 9,
   "metadata": {},
   "outputs": [
    {
     "data": {
      "image/png": "[encoded data removed]",
      "text/plain": [
       "<Figure size 432x288 with 1 Axes>"
      ]
     },
     "metadata": {},
     "output_type": "display_data"
    }
   ],
   "source": [
    "# reducing the sizes\n",
    "path = DATADIR+str('images')\n",
    "for img in os.listdir(path):\n",
    "        img_array = np.array(cv2.imread(os.path.join(path,img)))\n",
    "        img_size = 64\n",
    "        new_array = cv2.resize(img_array,(img_size,img_size))\n",
    "        plt.imshow(new_array)\n",
    "        plt.show()\n",
    "        break"
   ]
  },
  {
   "cell_type": "code",
   "execution_count": 10,
   "metadata": {},
   "outputs": [],
   "source": [
    "path = os.path.join(DATADIR+str('images'))\n",
    "training_data = []\n",
    "def create_training_data():    \n",
    "    for img in os.listdir(path):\n",
    "        img_array = np.array(cv2.imread(os.path.join(path,img)))\n",
    "        img_size = 64\n",
    "        new_array = cv2.resize(img_array,(img_size,img_size))\n",
    "        training_data.append([new_array, labels.xRot[labels.filename==img].values])\n",
    "\n",
    "create_training_data()"
   ]
  },
  {
   "cell_type": "code",
   "execution_count": 11,
   "metadata": {},
   "outputs": [],
   "source": [
    "import random\n",
    "random.shuffle(training_data)\n",
    "X =[]\n",
    "y = []\n",
    "img_size = 64\n",
    "for feature,label in training_data:\n",
    "    X.append(feature)\n",
    "    y.append(label)\n",
    "\n",
    "X = np.array(X).reshape(-1,img_size,img_size,3)\n"
   ]
  },
  {
   "cell_type": "code",
   "execution_count": 12,
   "metadata": {},
   "outputs": [],
   "source": [
    "y = np.array(y).reshape(-1,1)"
   ]
  },
  {
   "cell_type": "code",
   "execution_count": 13,
   "metadata": {},
   "outputs": [],
   "source": [
    "import pickle\n",
    "pickle_out = open('X.pickle','wb')\n",
    "pickle.dump('X',pickle_out)\n",
    "pickle_out.close()\n",
    "\n",
    "pickle_out = open('y.pickle','wb')\n",
    "pickle.dump('y',pickle_out)\n",
    "pickle_out.close()"
   ]
  },
  {
   "cell_type": "code",
   "execution_count": 14,
   "metadata": {},
   "outputs": [],
   "source": [
    "# scaling\n",
    "X = X/255."
   ]
  },
  {
   "cell_type": "code",
   "execution_count": 15,
   "metadata": {},
   "outputs": [],
   "source": [
    "# spilitting the data\n",
    "train_size = int(0.8 * len(X))\n",
    "X_train = X[:train_size]\n",
    "y_train = y[:train_size]\n",
    "\n",
    "X_test = X[train_size:]\n",
    "y_test = y[train_size:]"
   ]
  },
  {
   "cell_type": "markdown",
   "metadata": {},
   "source": [
    "ResNET50\n"
   ]
  },
  {
   "cell_type": "code",
   "execution_count": 16,
   "metadata": {},
   "outputs": [],
   "source": [
    "# identity block\n",
    "\n",
    "def identity_block(X, f, filters, stage, block):\n",
    "    \n",
    "    \n",
    "    #  name basis\n",
    "    conv_name_base = 'res' + str(stage) + block + '_branch'\n",
    "    bn_name_base = 'bn' + str(stage) + block + '_branch'\n",
    "    \n",
    "    #  Filters\n",
    "    F1, F2, F3 = filters\n",
    "    \n",
    "    #  input value. \n",
    "    X_shortcut = X\n",
    "    \n",
    "    # First main path comp\n",
    "    X = Conv2D(filters = F1, kernel_size = (1, 1), strides = (1,1), padding = 'valid', name = conv_name_base + '2a', kernel_initializer = glorot_uniform(seed=0))(X)\n",
    "    X = BatchNormalization(axis = 3, name = bn_name_base + '2a')(X)\n",
    "    X = Activation('relu')(X)\n",
    "\n",
    "    \n",
    "    # Second main path comp\n",
    "    X = Conv2D(filters = F2, kernel_size = (f, f), strides = (1,1), padding = 'same', name = conv_name_base + '2b', kernel_initializer = glorot_uniform(seed=0))(X)\n",
    "    X = BatchNormalization(axis = 3, name = bn_name_base + '2b')(X)\n",
    "    X = Activation('relu')(X)\n",
    "\n",
    "    # Third component \n",
    "    X = Conv2D(filters = F3, kernel_size = (1, 1), strides = (1,1), padding = 'valid', name = conv_name_base + '2c', kernel_initializer = glorot_uniform(seed=0))(X)\n",
    "    X = BatchNormalization(axis = 3, name = bn_name_base + '2c')(X)\n",
    "\n",
    "    # shortcut\n",
    "    X = Add()([X, X_shortcut])\n",
    "    X = Activation('relu')(X)\n",
    "    \n",
    "    \n",
    "    return X"
   ]
  },
  {
   "cell_type": "code",
   "execution_count": 17,
   "metadata": {},
   "outputs": [],
   "source": [
    "# convolutional block\n",
    "def convolutional_block(X, f, filters, stage, block, s = 2):\n",
    "    \n",
    "    #  name basis\n",
    "    conv_name_base = 'res' + str(stage) + block + '_branch'\n",
    "    bn_name_base = 'bn' + str(stage) + block + '_branch'\n",
    "    \n",
    "    #  Filters\n",
    "    F1, F2, F3 = filters\n",
    "    \n",
    "    #  input value\n",
    "    X_shortcut = X\n",
    "\n",
    "\n",
    "    ##### MAIN PATH #####\n",
    "    # First component \n",
    "    X = Conv2D(F1, (1, 1), strides = (s,s), name = conv_name_base + '2a', kernel_initializer = glorot_uniform(seed=0))(X)\n",
    "    X = BatchNormalization(axis = 3, name = bn_name_base + '2a')(X)\n",
    "    X = Activation('relu')(X)\n",
    "\n",
    "    # Second component \n",
    "    X = Conv2D(filters = F2, kernel_size = (f, f), strides = (1,1), padding = 'same', name = conv_name_base + '2b', kernel_initializer = glorot_uniform(seed=0))(X)\n",
    "    X = BatchNormalization(axis = 3, name = bn_name_base + '2b')(X)\n",
    "    X = Activation('relu')(X)\n",
    "\n",
    "\n",
    "    # Third component \n",
    "    X = Conv2D(filters = F3, kernel_size = (1, 1), strides = (1,1), padding = 'valid', name = conv_name_base + '2c', kernel_initializer = glorot_uniform(seed=0))(X)\n",
    "    X = BatchNormalization(axis = 3, name = bn_name_base + '2c')(X)\n",
    "\n",
    "\n",
    "    ##### SHORTCUT PATH #### \n",
    "    X_shortcut = Conv2D(filters = F3, kernel_size = (1, 1), strides = (s,s), padding = 'valid', name = conv_name_base + '1',\n",
    "                        kernel_initializer = glorot_uniform(seed=0))(X_shortcut)\n",
    "    X_shortcut = BatchNormalization(axis = 3, name = bn_name_base + '1')(X_shortcut)\n",
    "\n",
    "    # shortcut\n",
    "    X = Add()([X, X_shortcut])\n",
    "    X = Activation('relu')(X)\n",
    "    \n",
    "    \n",
    "    return X"
   ]
  },
  {
   "cell_type": "code",
   "execution_count": 18,
   "metadata": {},
   "outputs": [],
   "source": [
    "# RESNET 50\n",
    "\n",
    "def ResNet50(input_shape=(512, 512, 3)):\n",
    "    \n",
    "    # input\n",
    "    X_input = Input(input_shape)\n",
    "\n",
    "    # Zero-Padding\n",
    "    X = ZeroPadding2D((3, 3))(X_input)\n",
    "\n",
    "    # Stage 1\n",
    "    X = Conv2D(64, (7, 7), strides=(2, 2), name='conv1', kernel_initializer=glorot_uniform(seed=0))(X)\n",
    "    X = BatchNormalization(axis=3, name='bn_conv1')(X)\n",
    "    X = Activation('relu')(X)\n",
    "    X = MaxPooling2D((3, 3), strides=(2, 2))(X)\n",
    "\n",
    "    # Stage 2\n",
    "    X = convolutional_block(X, f=3, filters=[64, 64, 256], stage=2, block='a', s=1)\n",
    "    X = identity_block(X, 3, [64, 64, 256], stage=2, block='b')\n",
    "    X = identity_block(X, 3, [64, 64, 256], stage=2, block='c')\n",
    "\n",
    "\n",
    "    # Stage 3 \n",
    "    X = convolutional_block(X, f = 3, filters = [128, 128, 512], stage = 3, block='a', s = 2)\n",
    "    X = identity_block(X, 3, [128, 128, 512], stage=3, block='b')\n",
    "    X = identity_block(X, 3, [128, 128, 512], stage=3, block='c')\n",
    "    X = identity_block(X, 3, [128, 128, 512], stage=3, block='d')\n",
    "\n",
    "    # Stage 4 \n",
    "    X = convolutional_block(X, f = 3, filters = [256, 256, 1024], stage = 4, block='a', s = 2)\n",
    "    X = identity_block(X, 3, [256, 256, 1024], stage=4, block='b')\n",
    "    X = identity_block(X, 3, [256, 256, 1024], stage=4, block='c')\n",
    "    X = identity_block(X, 3, [256, 256, 1024], stage=4, block='d')\n",
    "    X = identity_block(X, 3, [256, 256, 1024], stage=4, block='e')\n",
    "    X = identity_block(X, 3, [256, 256, 1024], stage=4, block='f')\n",
    "\n",
    "    # Stage 5 \n",
    "    X = convolutional_block(X, f = 3, filters = [512, 512, 2048], stage = 5, block='a', s = 2)\n",
    "    X = identity_block(X, 3, [512, 512, 2048], stage=5, block='b')\n",
    "    X = identity_block(X, 3, [512, 512, 2048], stage=5, block='c')\n",
    "\n",
    "    # MAXPOOL \n",
    "    X = MaxPooling2D((2,2), name=\"avg_pool\")(X)\n",
    "\n",
    "\n",
    "    # output layer\n",
    "    X = Flatten()(X)\n",
    "    X = Dense(1, activation='linear', name='fc', kernel_initializer = glorot_uniform(seed=0))(X)\n",
    "    \n",
    "    \n",
    "    #  model\n",
    "    model = Model(inputs = X_input, outputs = X, name='ResNet50')\n",
    "\n",
    "    return model"
   ]
  },
  {
   "cell_type": "code",
   "execution_count": 19,
   "metadata": {},
   "outputs": [],
   "source": [
    "model = ResNet50(input_shape=(64,64,3))"
   ]
  },
  {
   "cell_type": "code",
   "execution_count": 20,
   "metadata": {},
   "outputs": [],
   "source": [
    "opt = tf.keras.optimizers.Adam()\n",
    "model.compile(loss='mean_squared_error',metrics=['mean_squared_error'],optimizer=opt)"
   ]
  },
  {
   "cell_type": "code",
   "execution_count": 23,
   "metadata": {},
   "outputs": [
    {
     "name": "stdout",
     "output_type": "stream",
     "text": [
      "Train on 4000 samples, validate on 1000 samples\n",
      "Epoch 1/50\n",
      "4000/4000 [==============================] - 21s 5ms/step - loss: 29.8777 - mean_squared_error: 29.8777 - val_loss: 30.1739 - val_mean_squared_error: 30.1739\n",
      "Epoch 2/50\n",
      "4000/4000 [==============================] - 18s 5ms/step - loss: 12.9980 - mean_squared_error: 12.9980 - val_loss: 60.9753 - val_mean_squared_error: 60.9753\n",
      "Epoch 3/50\n",
      "4000/4000 [==============================] - 18s 5ms/step - loss: 19.4948 - mean_squared_error: 19.4949 - val_loss: 63.6263 - val_mean_squared_error: 63.6263\n",
      "Epoch 4/50\n",
      "4000/4000 [==============================] - 18s 5ms/step - loss: 19.7533 - mean_squared_error: 19.7533 - val_loss: 6.8972 - val_mean_squared_error: 6.8972\n",
      "Epoch 5/50\n",
      "4000/4000 [==============================] - 18s 5ms/step - loss: 24.6690 - mean_squared_error: 24.6690 - val_loss: 79.6541 - val_mean_squared_error: 79.6541\n",
      "Epoch 6/50\n",
      "4000/4000 [==============================] - 18s 5ms/step - loss: 26.8165 - mean_squared_error: 26.8165 - val_loss: 94.6775 - val_mean_squared_error: 94.6775\n",
      "Epoch 7/50\n",
      "4000/4000 [==============================] - 18s 5ms/step - loss: 17.9867 - mean_squared_error: 17.9867 - val_loss: 54.6626 - val_mean_squared_error: 54.6626\n",
      "Epoch 8/50\n",
      "4000/4000 [==============================] - 19s 5ms/step - loss: 12.9191 - mean_squared_error: 12.9191 - val_loss: 24.0710 - val_mean_squared_error: 24.0710\n",
      "Epoch 9/50\n",
      "4000/4000 [==============================] - 18s 5ms/step - loss: 10.7633 - mean_squared_error: 10.7633 - val_loss: 6.9909 - val_mean_squared_error: 6.9909\n",
      "Epoch 10/50\n",
      "4000/4000 [==============================] - 18s 5ms/step - loss: 12.0471 - mean_squared_error: 12.0471 - val_loss: 11.3902 - val_mean_squared_error: 11.3902\n",
      "Epoch 11/50\n",
      "4000/4000 [==============================] - 18s 5ms/step - loss: 32.2999 - mean_squared_error: 32.2999 - val_loss: 23.9631 - val_mean_squared_error: 23.9631\n",
      "Epoch 12/50\n",
      "4000/4000 [==============================] - 19s 5ms/step - loss: 21.1514 - mean_squared_error: 21.1514 - val_loss: 19.2557 - val_mean_squared_error: 19.2557\n",
      "Epoch 13/50\n",
      "4000/4000 [==============================] - 18s 5ms/step - loss: 11.3288 - mean_squared_error: 11.3288 - val_loss: 15.8181 - val_mean_squared_error: 15.8181\n",
      "Epoch 14/50\n",
      "4000/4000 [==============================] - 18s 5ms/step - loss: 5.1512 - mean_squared_error: 5.1512 - val_loss: 11.6681 - val_mean_squared_error: 11.6681\n",
      "Epoch 15/50\n",
      "4000/4000 [==============================] - 18s 5ms/step - loss: 3.8365 - mean_squared_error: 3.8365 - val_loss: 16.2646 - val_mean_squared_error: 16.2646\n",
      "Epoch 16/50\n",
      "4000/4000 [==============================] - 19s 5ms/step - loss: 2.6303 - mean_squared_error: 2.6303 - val_loss: 13.8797 - val_mean_squared_error: 13.8797\n",
      "Epoch 17/50\n",
      "4000/4000 [==============================] - 19s 5ms/step - loss: 2.5835 - mean_squared_error: 2.5835 - val_loss: 7.8850 - val_mean_squared_error: 7.8850\n",
      "Epoch 18/50\n",
      "4000/4000 [==============================] - 18s 5ms/step - loss: 2.0928 - mean_squared_error: 2.0928 - val_loss: 11.9854 - val_mean_squared_error: 11.9854\n",
      "Epoch 19/50\n",
      "4000/4000 [==============================] - 19s 5ms/step - loss: 2.3437 - mean_squared_error: 2.3437 - val_loss: 1.3113 - val_mean_squared_error: 1.3113\n",
      "Epoch 20/50\n",
      "4000/4000 [==============================] - 18s 5ms/step - loss: 2.2503 - mean_squared_error: 2.2503 - val_loss: 1.1947 - val_mean_squared_error: 1.1947\n",
      "Epoch 21/50\n",
      "4000/4000 [==============================] - 18s 5ms/step - loss: 1.7219 - mean_squared_error: 1.7219 - val_loss: 1.3810 - val_mean_squared_error: 1.3810\n",
      "Epoch 22/50\n",
      "4000/4000 [==============================] - 18s 5ms/step - loss: 1.7421 - mean_squared_error: 1.7421 - val_loss: 1.8900 - val_mean_squared_error: 1.8900\n",
      "Epoch 23/50\n",
      "4000/4000 [==============================] - 18s 5ms/step - loss: 2.0148 - mean_squared_error: 2.0148 - val_loss: 1.2441 - val_mean_squared_error: 1.2441\n",
      "Epoch 24/50\n",
      "4000/4000 [==============================] - 18s 5ms/step - loss: 1.6264 - mean_squared_error: 1.6264 - val_loss: 1.7978 - val_mean_squared_error: 1.7978\n",
      "Epoch 25/50\n",
      "4000/4000 [==============================] - 18s 5ms/step - loss: 1.0451 - mean_squared_error: 1.0451 - val_loss: 0.8531 - val_mean_squared_error: 0.8531\n",
      "Epoch 26/50\n",
      "4000/4000 [==============================] - 18s 5ms/step - loss: 0.8250 - mean_squared_error: 0.8250 - val_loss: 1.0531 - val_mean_squared_error: 1.0531\n",
      "Epoch 27/50\n",
      "4000/4000 [==============================] - 19s 5ms/step - loss: 1.3508 - mean_squared_error: 1.3508 - val_loss: 3.1973 - val_mean_squared_error: 3.1973\n",
      "Epoch 28/50\n",
      "4000/4000 [==============================] - 18s 5ms/step - loss: 0.9592 - mean_squared_error: 0.9592 - val_loss: 0.4827 - val_mean_squared_error: 0.4827\n",
      "Epoch 29/50\n",
      "4000/4000 [==============================] - 19s 5ms/step - loss: 0.9696 - mean_squared_error: 0.9696 - val_loss: 0.4933 - val_mean_squared_error: 0.4933\n",
      "Epoch 30/50\n",
      "4000/4000 [==============================] - 18s 5ms/step - loss: 1.1823 - mean_squared_error: 1.1823 - val_loss: 2.9728 - val_mean_squared_error: 2.9728\n",
      "Epoch 31/50\n",
      "4000/4000 [==============================] - 19s 5ms/step - loss: 1.4923 - mean_squared_error: 1.4923 - val_loss: 2.2154 - val_mean_squared_error: 2.2154\n",
      "Epoch 32/50\n",
      "4000/4000 [==============================] - 18s 5ms/step - loss: 1.8628 - mean_squared_error: 1.8628 - val_loss: 2.1633 - val_mean_squared_error: 2.1633\n",
      "Epoch 33/50\n",
      "4000/4000 [==============================] - 18s 5ms/step - loss: 5.0236 - mean_squared_error: 5.0236 - val_loss: 7.9762 - val_mean_squared_error: 7.9762\n",
      "Epoch 34/50\n",
      "4000/4000 [==============================] - 18s 5ms/step - loss: 35.0140 - mean_squared_error: 35.0140 - val_loss: 12.3364 - val_mean_squared_error: 12.3364\n",
      "Epoch 35/50\n",
      "4000/4000 [==============================] - 18s 5ms/step - loss: 2.5386 - mean_squared_error: 2.5386 - val_loss: 9.4959 - val_mean_squared_error: 9.4959\n",
      "Epoch 36/50\n",
      "4000/4000 [==============================] - 19s 5ms/step - loss: 3.0473 - mean_squared_error: 3.0473 - val_loss: 9.0959 - val_mean_squared_error: 9.0959\n",
      "Epoch 37/50\n",
      "4000/4000 [==============================] - 18s 5ms/step - loss: 4.6626 - mean_squared_error: 4.6626 - val_loss: 2.2403 - val_mean_squared_error: 2.2403\n",
      "Epoch 38/50\n",
      "4000/4000 [==============================] - 18s 5ms/step - loss: 3.1754 - mean_squared_error: 3.1754 - val_loss: 1.9981 - val_mean_squared_error: 1.9981\n",
      "Epoch 39/50\n",
      "4000/4000 [==============================] - 18s 5ms/step - loss: 2.0234 - mean_squared_error: 2.0234 - val_loss: 2.1276 - val_mean_squared_error: 2.1276\n",
      "Epoch 40/50\n",
      "4000/4000 [==============================] - 19s 5ms/step - loss: 1.2291 - mean_squared_error: 1.2291 - val_loss: 1.4883 - val_mean_squared_error: 1.4883\n",
      "Epoch 41/50\n",
      "4000/4000 [==============================] - 18s 5ms/step - loss: 0.9250 - mean_squared_error: 0.9250 - val_loss: 0.8292 - val_mean_squared_error: 0.8292\n",
      "Epoch 42/50\n",
      "4000/4000 [==============================] - 18s 5ms/step - loss: 0.7576 - mean_squared_error: 0.7576 - val_loss: 4.0999 - val_mean_squared_error: 4.0999\n",
      "Epoch 43/50\n",
      "4000/4000 [==============================] - 19s 5ms/step - loss: 1.7123 - mean_squared_error: 1.7123 - val_loss: 1.0647 - val_mean_squared_error: 1.0647\n",
      "Epoch 44/50\n",
      "4000/4000 [==============================] - 18s 5ms/step - loss: 0.8171 - mean_squared_error: 0.8171 - val_loss: 2.9376 - val_mean_squared_error: 2.9376\n",
      "Epoch 45/50\n",
      "4000/4000 [==============================] - 18s 5ms/step - loss: 0.7967 - mean_squared_error: 0.7967 - val_loss: 1.5508 - val_mean_squared_error: 1.5508\n",
      "Epoch 46/50\n",
      "4000/4000 [==============================] - 18s 5ms/step - loss: 0.7396 - mean_squared_error: 0.7396 - val_loss: 0.9574 - val_mean_squared_error: 0.9574\n",
      "Epoch 47/50\n",
      "4000/4000 [==============================] - 19s 5ms/step - loss: 0.8727 - mean_squared_error: 0.8727 - val_loss: 0.4836 - val_mean_squared_error: 0.4836\n",
      "Epoch 48/50\n",
      "4000/4000 [==============================] - 19s 5ms/step - loss: 0.7665 - mean_squared_error: 0.7665 - val_loss: 1.6472 - val_mean_squared_error: 1.6472\n",
      "Epoch 49/50\n",
      "4000/4000 [==============================] - 18s 5ms/step - loss: 0.6809 - mean_squared_error: 0.6809 - val_loss: 0.8780 - val_mean_squared_error: 0.8780\n"
     ]
    },
    {
     "name": "stdout",
     "output_type": "stream",
     "text": [
      "Epoch 50/50\n",
      "4000/4000 [==============================] - 18s 5ms/step - loss: 0.5902 - mean_squared_error: 0.5902 - val_loss: 0.4152 - val_mean_squared_error: 0.4152\n"
     ]
    },
    {
     "data": {
      "text/plain": [
       "<keras.callbacks.callbacks.History at 0x2babe076ac8>"
      ]
     },
     "execution_count": 23,
     "metadata": {},
     "output_type": "execute_result"
    }
   ],
   "source": [
    "epochs = 50\n",
    "batch_size = 128\n",
    "\n",
    "model.fit(X_train,y_train,epochs=epochs,batch_size=batch_size,validation_data=(X_test,y_test))"
   ]
  },
  {
   "cell_type": "code",
   "execution_count": 24,
   "metadata": {},
   "outputs": [
    {
     "name": "stdout",
     "output_type": "stream",
     "text": [
      "1000/1000 [==============================] - 2s 2ms/step\n",
      "[0.4151562452316284, 0.41515618562698364]\n"
     ]
    }
   ],
   "source": [
    "print(model.evaluate(X_test,y_test))"
   ]
  },
  {
   "cell_type": "markdown",
   "metadata": {},
   "source": [
    "<b>Testing on unknown data"
   ]
  },
  {
   "cell_type": "code",
   "execution_count": 28,
   "metadata": {},
   "outputs": [
    {
     "data": {
      "image/png": "[encoded data removed]",
      "text/plain": [
       "<Figure size 432x288 with 1 Axes>"
      ]
     },
     "metadata": {},
     "output_type": "display_data"
    }
   ],
   "source": [
    "DATADIR = \"C:/Users/Arpan/Downloads/Education/Project/Rubics Cube/\"\n",
    "path = os.path.join(DATADIR+str('images'))\n",
    "for img in os.listdir(path):\n",
    "        img_array = np.array(cv2.imread(os.path.join(path,img)))\n",
    "        img_size = 64\n",
    "        new_array = cv2.resize(img_array,(img_size,img_size))\n",
    "        plt.imshow(new_array)\n",
    "        plt.title(img)\n",
    "        plt.show()\n",
    "        break"
   ]
  },
  {
   "cell_type": "code",
   "execution_count": 30,
   "metadata": {},
   "outputs": [],
   "source": [
    "DATADIR = \"C:/Users/Arpan/Downloads/Education/Project/Rubics Cube/\"\n",
    "path = os.path.join(DATADIR+str('images'))\n",
    "test_data = []\n",
    "filename = []\n",
    "def create_test_data():    \n",
    "    for img in os.listdir(path):\n",
    "        img_array = np.array(cv2.imread(os.path.join(path,img)))\n",
    "        img_size = 64\n",
    "        new_array = cv2.resize(img_array,(img_size,img_size))\n",
    "        test_data.append(new_array)\n",
    "        filename.append(img)\n",
    "\n",
    "create_test_data()"
   ]
  },
  {
   "cell_type": "code",
   "execution_count": 34,
   "metadata": {},
   "outputs": [
    {
     "data": {
      "text/plain": [
       "(5001, 64, 64, 3)"
      ]
     },
     "execution_count": 34,
     "metadata": {},
     "output_type": "execute_result"
    }
   ],
   "source": [
    "X_sub = []\n",
    "for feature in test_data:\n",
    "    X_sub.append(feature)\n",
    "\n",
    "img_size = 64\n",
    "X_sub = np.array(X_sub).reshape(-1,img_size,img_size,3)\n",
    "X_sub.shape"
   ]
  },
  {
   "cell_type": "code",
   "execution_count": 41,
   "metadata": {},
   "outputs": [],
   "source": [
    "# prediction\n",
    "X_sub = X_sub/255. #scaling\n",
    "prediction = model.predict(X_sub)"
   ]
  },
  {
   "cell_type": "code",
   "execution_count": 42,
   "metadata": {},
   "outputs": [
    {
     "data": {
      "text/plain": [
       "array([[348.86542 ],\n",
       "       [261.8329  ],\n",
       "       [292.77127 ],\n",
       "       [111.37445 ],\n",
       "       [  6.5502  ],\n",
       "       [150.90115 ],\n",
       "       [348.88196 ],\n",
       "       [ 39.141468],\n",
       "       [231.62665 ],\n",
       "       [144.95145 ]], dtype=float32)"
      ]
     },
     "execution_count": 42,
     "metadata": {},
     "output_type": "execute_result"
    }
   ],
   "source": [
    "prediction[:10]"
   ]
  },
  {
   "cell_type": "markdown",
   "metadata": {},
   "source": [
    "Making submission"
   ]
  },
  {
   "cell_type": "code",
   "execution_count": 44,
   "metadata": {},
   "outputs": [
    {
     "data": {
      "text/html": [
       "<div>\n",
       "<style scoped>\n",
       "    .dataframe tbody tr th:only-of-type {\n",
       "        vertical-align: middle;\n",
       "    }\n",
       "\n",
       "    .dataframe tbody tr th {\n",
       "        vertical-align: top;\n",
       "    }\n",
       "\n",
       "    .dataframe thead th {\n",
       "        text-align: right;\n",
       "    }\n",
       "</style>\n",
       "<table border=\"1\" class=\"dataframe\">\n",
       "  <thead>\n",
       "    <tr style=\"text-align: right;\">\n",
       "      <th></th>\n",
       "      <th>filename</th>\n",
       "      <th>xRot</th>\n",
       "    </tr>\n",
       "  </thead>\n",
       "  <tbody>\n",
       "    <tr>\n",
       "      <th>0</th>\n",
       "      <td>005000.jpg</td>\n",
       "      <td>348.865417</td>\n",
       "    </tr>\n",
       "    <tr>\n",
       "      <th>1</th>\n",
       "      <td>005001.jpg</td>\n",
       "      <td>261.832886</td>\n",
       "    </tr>\n",
       "    <tr>\n",
       "      <th>2</th>\n",
       "      <td>005002.jpg</td>\n",
       "      <td>292.771271</td>\n",
       "    </tr>\n",
       "    <tr>\n",
       "      <th>3</th>\n",
       "      <td>005003.jpg</td>\n",
       "      <td>111.374451</td>\n",
       "    </tr>\n",
       "    <tr>\n",
       "      <th>4</th>\n",
       "      <td>005004.jpg</td>\n",
       "      <td>6.550200</td>\n",
       "    </tr>\n",
       "  </tbody>\n",
       "</table>\n",
       "</div>"
      ],
      "text/plain": [
       "     filename        xRot\n",
       "0  005000.jpg  348.865417\n",
       "1  005001.jpg  261.832886\n",
       "2  005002.jpg  292.771271\n",
       "3  005003.jpg  111.374451\n",
       "4  005004.jpg    6.550200"
      ]
     },
     "execution_count": 44,
     "metadata": {},
     "output_type": "execute_result"
    }
   ],
   "source": [
    "submission = pd.DataFrame(filename, columns=['filename'])\n",
    "submission['xRot'] = prediction\n",
    "submission.head()"
   ]
  },
  {
   "cell_type": "code",
   "execution_count": 45,
   "metadata": {},
   "outputs": [],
   "source": [
    "submission.to_csv('submission_Rubics.csv',index = False)"
   ]
  }
 ],
 "metadata": {
  "kernelspec": {
   "display_name": "Python 3",
   "language": "python",
   "name": "python3"
  },
  "language_info": {
   "codemirror_mode": {
    "name": "ipython",
    "version": 3
   },
   "file_extension": ".py",
   "mimetype": "text/x-python",
   "name": "python",
   "nbconvert_exporter": "python",
   "pygments_lexer": "ipython3",
   "version": "3.6.5"
  }
 },
 "nbformat": 4,
 "nbformat_minor": 2
}
